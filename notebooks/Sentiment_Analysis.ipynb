{
 "cells": [
  {
   "cell_type": "markdown",
   "metadata": {},
   "source": [
    "# The Last Jedi Reviews - Sentiment Analysis\n"
   ]
  },
  {
   "cell_type": "code",
   "execution_count": 1,
   "metadata": {
    "ExecuteTime": {
     "end_time": "2020-08-23T20:53:34.690666Z",
     "start_time": "2020-08-23T20:53:32.435376Z"
    }
   },
   "outputs": [],
   "source": [
    "import pandas as pd\n",
    "import numpy as np\n",
    "\n",
    "import re \n",
    "import string\n",
    "\n",
    "import nltk\n",
    "from nltk import word_tokenize\n",
    "from nltk import sentiment\n",
    "from nltk.sentiment.vader import SentimentIntensityAnalyzer\n",
    "\n",
    "from sklearn.metrics import confusion_matrix\n",
    "\n",
    "import seaborn as sns\n",
    "import matplotlib.pyplot as plt\n",
    "\n",
    "# from google.cloud import language\n",
    "# from google.cloud.language import enums\n",
    "# from google.cloud.language import types\n",
    "\n",
    "%matplotlib inline\n",
    "\n",
    "# Append module location to path\n",
    "import sys\n",
    "sys.path.append(\"../code\")\n",
    "from confusion import print_confusion_matrix\n",
    "\n",
    "import pickle"
   ]
  },
  {
   "cell_type": "markdown",
   "metadata": {},
   "source": [
    "### Load Reviews"
   ]
  },
  {
   "cell_type": "code",
   "execution_count": 2,
   "metadata": {
    "ExecuteTime": {
     "end_time": "2020-08-23T20:53:36.167628Z",
     "start_time": "2020-08-23T20:53:36.130918Z"
    }
   },
   "outputs": [],
   "source": [
    "# Load pickle file with all IMDb reviews\n",
    "tlj=pickle.load(open( \"../data/pickles/reviews/imdb_tlj_reviews.pkl\", \"rb\" ))"
   ]
  },
  {
   "cell_type": "markdown",
   "metadata": {},
   "source": [
    "### Text Pre-Processing\n",
    "- Remove numbers\n",
    "- Lower case\n",
    "- Remove punctuation\n",
    "- Remove words with letter repetition\n",
    "- Change scores from string to numeric"
   ]
  },
  {
   "cell_type": "code",
   "execution_count": 4,
   "metadata": {
    "ExecuteTime": {
     "end_time": "2020-08-23T20:54:22.363765Z",
     "start_time": "2020-08-23T20:54:15.212142Z"
    }
   },
   "outputs": [],
   "source": [
    "# Remove extraneous numbers, punctuation, words with excessive letter repetiion \n",
    "alphanumeric = lambda x: re.sub('\\w*\\d\\w*', ' ', x)\n",
    "punc_lower = lambda x: re.sub('[%s]' % re.escape(string.punctuation), ' ', x.lower())\n",
    "repeat_letters = lambda x: re.sub('(a{3,}|b{3,}|c{3,}|d{3,}|e{3,}|f{3,}|g{3,}|\\\n",
    "                                    h{3,}|i{2,}|j{2,}|k{3,}|l{3,}|m{3,}|n{3,}|\\\n",
    "                                    o{3,}|p{3,}|q{2,}|r{3,}|s{3,}|t{3,}|u{2,}|\\\n",
    "                                    v{2,}|w{3,}|x{2,}|y{2,}|z{3,})', ' ', x)\n",
    "\n",
    "\n",
    "tlj['Reviews'] = tlj['Reviews'].map(alphanumeric).map(punc_lower).map(repeat_letters)\n",
    "\n",
    "tlj['Scores'] = pd.to_numeric(tlj['Scores'])"
   ]
  },
  {
   "cell_type": "markdown",
   "metadata": {},
   "source": [
    "### Create `Tokens` column in `tlj` DataFrame\n",
    "Store the documents as bag-of-words representations in the df"
   ]
  },
  {
   "cell_type": "code",
   "execution_count": 5,
   "metadata": {
    "ExecuteTime": {
     "end_time": "2020-08-23T20:54:35.032744Z",
     "start_time": "2020-08-23T20:54:25.612056Z"
    }
   },
   "outputs": [],
   "source": [
    "# Create Tokens column\n",
    "tlj['Tokens'] = tlj['Reviews'].apply(word_tokenize)\n",
    "\n",
    "# Create list of documents in token form\n",
    "all_tokens_list = list(tlj['Tokens'])"
   ]
  },
  {
   "cell_type": "markdown",
   "metadata": {},
   "source": [
    "### Create `tljText` and `tljVocab` objects\n",
    "Allow exploration of the vocabulary and usage of nltk.Text if needed"
   ]
  },
  {
   "cell_type": "code",
   "execution_count": 6,
   "metadata": {
    "ExecuteTime": {
     "end_time": "2020-08-23T20:54:36.451253Z",
     "start_time": "2020-08-23T20:54:35.771713Z"
    }
   },
   "outputs": [],
   "source": [
    "# Create list of all tokens, and NLTK Text and Vocab objects from tokens\n",
    "all_tokens=[]\n",
    "for i in all_tokens_list:\n",
    "    all_tokens += i\n",
    "tljText = nltk.Text(all_tokens)\n",
    "tljVocab = sorted(set(tljText))"
   ]
  },
  {
   "cell_type": "markdown",
   "metadata": {},
   "source": [
    "### Basic Sentiment Analysis with NLTK"
   ]
  },
  {
   "cell_type": "code",
   "execution_count": 7,
   "metadata": {
    "ExecuteTime": {
     "end_time": "2020-08-23T20:55:08.748505Z",
     "start_time": "2020-08-23T20:54:39.726934Z"
    }
   },
   "outputs": [],
   "source": [
    "compound_scores = []\n",
    "valences = []\n",
    "sid = SentimentIntensityAnalyzer()\n",
    "for review in tlj['Reviews']:\n",
    "    ss = sid.polarity_scores(review)\n",
    "    for k in sorted(ss):\n",
    "            if k == 'compound':\n",
    "                compound_scores.append(ss[k])"
   ]
  },
  {
   "cell_type": "code",
   "execution_count": 8,
   "metadata": {
    "ExecuteTime": {
     "end_time": "2020-08-23T20:55:10.254446Z",
     "start_time": "2020-08-23T20:55:10.238992Z"
    }
   },
   "outputs": [],
   "source": [
    "# Add nltk scores to df\n",
    "tlj['nltk_scores'] = pd.Series(compound_scores)"
   ]
  },
  {
   "cell_type": "markdown",
   "metadata": {},
   "source": [
    "### Explore nltk_scores"
   ]
  },
  {
   "cell_type": "code",
   "execution_count": 9,
   "metadata": {
    "ExecuteTime": {
     "end_time": "2020-08-23T20:55:12.290236Z",
     "start_time": "2020-08-23T20:55:11.768369Z"
    }
   },
   "outputs": [
    {
     "data": {
      "image/png": "[encoded data removed]",
      "text/plain": [
       "<Figure size 864x360 with 2 Axes>"
      ]
     },
     "metadata": {
      "needs_background": "light"
     },
     "output_type": "display_data"
    }
   ],
   "source": [
    "f, axes = plt.subplots(1, 2, figsize=(12,5))\n",
    "sns.distplot(np.array(tlj['nltk_scores']), ax=axes[0])\n",
    "sns.boxplot(np.array(tlj['nltk_scores']), ax=axes[1])\n",
    "plt.tight_layout()"
   ]
  },
  {
   "cell_type": "code",
   "execution_count": 10,
   "metadata": {
    "ExecuteTime": {
     "end_time": "2020-08-23T20:55:13.926533Z",
     "start_time": "2020-08-23T20:55:13.906709Z"
    }
   },
   "outputs": [
    {
     "data": {
      "text/html": [
       "<div>\n",
       "<style scoped>\n",
       "    .dataframe tbody tr th:only-of-type {\n",
       "        vertical-align: middle;\n",
       "    }\n",
       "\n",
       "    .dataframe tbody tr th {\n",
       "        vertical-align: top;\n",
       "    }\n",
       "\n",
       "    .dataframe thead th {\n",
       "        text-align: right;\n",
       "    }\n",
       "</style>\n",
       "<table border=\"1\" class=\"dataframe\">\n",
       "  <thead>\n",
       "    <tr style=\"text-align: right;\">\n",
       "      <th></th>\n",
       "      <th>Scores</th>\n",
       "      <th>nltk_scores</th>\n",
       "    </tr>\n",
       "  </thead>\n",
       "  <tbody>\n",
       "    <tr>\n",
       "      <th>count</th>\n",
       "      <td>5664.000000</td>\n",
       "      <td>5865.000000</td>\n",
       "    </tr>\n",
       "    <tr>\n",
       "      <th>mean</th>\n",
       "      <td>4.224929</td>\n",
       "      <td>-0.069139</td>\n",
       "    </tr>\n",
       "    <tr>\n",
       "      <th>std</th>\n",
       "      <td>3.263339</td>\n",
       "      <td>0.817722</td>\n",
       "    </tr>\n",
       "    <tr>\n",
       "      <th>min</th>\n",
       "      <td>1.000000</td>\n",
       "      <td>-0.999800</td>\n",
       "    </tr>\n",
       "    <tr>\n",
       "      <th>25%</th>\n",
       "      <td>1.000000</td>\n",
       "      <td>-0.909800</td>\n",
       "    </tr>\n",
       "    <tr>\n",
       "      <th>50%</th>\n",
       "      <td>3.000000</td>\n",
       "      <td>-0.290500</td>\n",
       "    </tr>\n",
       "    <tr>\n",
       "      <th>75%</th>\n",
       "      <td>7.000000</td>\n",
       "      <td>0.879300</td>\n",
       "    </tr>\n",
       "    <tr>\n",
       "      <th>max</th>\n",
       "      <td>10.000000</td>\n",
       "      <td>0.999800</td>\n",
       "    </tr>\n",
       "  </tbody>\n",
       "</table>\n",
       "</div>"
      ],
      "text/plain": [
       "            Scores  nltk_scores\n",
       "count  5664.000000  5865.000000\n",
       "mean      4.224929    -0.069139\n",
       "std       3.263339     0.817722\n",
       "min       1.000000    -0.999800\n",
       "25%       1.000000    -0.909800\n",
       "50%       3.000000    -0.290500\n",
       "75%       7.000000     0.879300\n",
       "max      10.000000     0.999800"
      ]
     },
     "execution_count": 10,
     "metadata": {},
     "output_type": "execute_result"
    }
   ],
   "source": [
    "tlj.describe()"
   ]
  },
  {
   "cell_type": "markdown",
   "metadata": {},
   "source": [
    "### Put scores on same scale\n",
    "To make them easier to compare"
   ]
  },
  {
   "cell_type": "code",
   "execution_count": 11,
   "metadata": {
    "ExecuteTime": {
     "end_time": "2020-08-23T20:55:18.255426Z",
     "start_time": "2020-08-23T20:55:18.235380Z"
    }
   },
   "outputs": [],
   "source": [
    "# Multiply by 5 then add 5\n",
    "tlj['nltk_scores'] = tlj['nltk_scores'] * 5 + 5"
   ]
  },
  {
   "cell_type": "code",
   "execution_count": 12,
   "metadata": {
    "ExecuteTime": {
     "end_time": "2020-08-23T20:55:19.602249Z",
     "start_time": "2020-08-23T20:55:19.569518Z"
    }
   },
   "outputs": [
    {
     "data": {
      "text/html": [
       "<div>\n",
       "<style scoped>\n",
       "    .dataframe tbody tr th:only-of-type {\n",
       "        vertical-align: middle;\n",
       "    }\n",
       "\n",
       "    .dataframe tbody tr th {\n",
       "        vertical-align: top;\n",
       "    }\n",
       "\n",
       "    .dataframe thead th {\n",
       "        text-align: right;\n",
       "    }\n",
       "</style>\n",
       "<table border=\"1\" class=\"dataframe\">\n",
       "  <thead>\n",
       "    <tr style=\"text-align: right;\">\n",
       "      <th></th>\n",
       "      <th>Scores</th>\n",
       "      <th>nltk_scores</th>\n",
       "    </tr>\n",
       "  </thead>\n",
       "  <tbody>\n",
       "    <tr>\n",
       "      <th>count</th>\n",
       "      <td>5664.000000</td>\n",
       "      <td>5865.000000</td>\n",
       "    </tr>\n",
       "    <tr>\n",
       "      <th>mean</th>\n",
       "      <td>4.224929</td>\n",
       "      <td>4.654306</td>\n",
       "    </tr>\n",
       "    <tr>\n",
       "      <th>std</th>\n",
       "      <td>3.263339</td>\n",
       "      <td>4.088610</td>\n",
       "    </tr>\n",
       "    <tr>\n",
       "      <th>min</th>\n",
       "      <td>1.000000</td>\n",
       "      <td>0.001000</td>\n",
       "    </tr>\n",
       "    <tr>\n",
       "      <th>25%</th>\n",
       "      <td>1.000000</td>\n",
       "      <td>0.451000</td>\n",
       "    </tr>\n",
       "    <tr>\n",
       "      <th>50%</th>\n",
       "      <td>3.000000</td>\n",
       "      <td>3.547500</td>\n",
       "    </tr>\n",
       "    <tr>\n",
       "      <th>75%</th>\n",
       "      <td>7.000000</td>\n",
       "      <td>9.396500</td>\n",
       "    </tr>\n",
       "    <tr>\n",
       "      <th>max</th>\n",
       "      <td>10.000000</td>\n",
       "      <td>9.999000</td>\n",
       "    </tr>\n",
       "  </tbody>\n",
       "</table>\n",
       "</div>"
      ],
      "text/plain": [
       "            Scores  nltk_scores\n",
       "count  5664.000000  5865.000000\n",
       "mean      4.224929     4.654306\n",
       "std       3.263339     4.088610\n",
       "min       1.000000     0.001000\n",
       "25%       1.000000     0.451000\n",
       "50%       3.000000     3.547500\n",
       "75%       7.000000     9.396500\n",
       "max      10.000000     9.999000"
      ]
     },
     "execution_count": 12,
     "metadata": {},
     "output_type": "execute_result"
    }
   ],
   "source": [
    "tlj.describe()"
   ]
  },
  {
   "cell_type": "markdown",
   "metadata": {},
   "source": [
    "### Explore IMDb Scores"
   ]
  },
  {
   "cell_type": "code",
   "execution_count": 13,
   "metadata": {
    "ExecuteTime": {
     "end_time": "2020-08-23T20:55:21.916594Z",
     "start_time": "2020-08-23T20:55:21.462156Z"
    }
   },
   "outputs": [
    {
     "data": {
      "image/png": "[encoded data removed]",
      "text/plain": [
       "<Figure size 864x360 with 2 Axes>"
      ]
     },
     "metadata": {
      "needs_background": "light"
     },
     "output_type": "display_data"
    }
   ],
   "source": [
    "f, axes = plt.subplots(1, 2, figsize=(12,5))\n",
    "sns.distplot(np.array(tlj['Scores'].fillna(0)), ax=axes[0], bins=10)\n",
    "sns.boxplot(np.array(tlj['Scores'].fillna(0)), ax=axes[1])\n",
    "plt.tight_layout()"
   ]
  },
  {
   "cell_type": "markdown",
   "metadata": {},
   "source": [
    "- Well it would seem that the actual scores are far more negatively distributed than the sentiment scores. \n",
    "- To make it clearer what's going on between the two scoring methods, let's look at the plots side by side."
   ]
  },
  {
   "cell_type": "code",
   "execution_count": 14,
   "metadata": {
    "ExecuteTime": {
     "end_time": "2020-08-23T20:55:25.535344Z",
     "start_time": "2020-08-23T20:55:24.465553Z"
    }
   },
   "outputs": [
    {
     "data": {
      "image/png": "[encoded data removed]",
      "text/plain": [
       "<Figure size 864x720 with 4 Axes>"
      ]
     },
     "metadata": {
      "needs_background": "light"
     },
     "output_type": "display_data"
    }
   ],
   "source": [
    "\n",
    "f, axes = plt.subplots(2,2, figsize=(12,10))\n",
    "sns.violinplot(np.array(tlj['nltk_scores']), ax=axes[0,0]).set_title('NLTK Sentiment Scores',fontsize=20)\n",
    "sns.violinplot(np.array(tlj['Scores'].fillna(0)), ax=axes[0,1]).set_title('IMDb Review Scores',fontsize=20)\n",
    "sns.distplot(np.array(tlj['nltk_scores']), ax=axes[1,0])\n",
    "sns.distplot(np.array(tlj['Scores'].fillna(0)), ax=axes[1,1], bins=10)\n",
    "plt.tight_layout()"
   ]
  },
  {
   "cell_type": "code",
   "execution_count": 15,
   "metadata": {
    "ExecuteTime": {
     "end_time": "2020-08-23T20:55:38.301316Z",
     "start_time": "2020-08-23T20:55:38.278235Z"
    }
   },
   "outputs": [
    {
     "data": {
      "text/html": [
       "<div>\n",
       "<style scoped>\n",
       "    .dataframe tbody tr th:only-of-type {\n",
       "        vertical-align: middle;\n",
       "    }\n",
       "\n",
       "    .dataframe tbody tr th {\n",
       "        vertical-align: top;\n",
       "    }\n",
       "\n",
       "    .dataframe thead th {\n",
       "        text-align: right;\n",
       "    }\n",
       "</style>\n",
       "<table border=\"1\" class=\"dataframe\">\n",
       "  <thead>\n",
       "    <tr style=\"text-align: right;\">\n",
       "      <th></th>\n",
       "      <th>Scores</th>\n",
       "      <th>nltk_scores</th>\n",
       "    </tr>\n",
       "  </thead>\n",
       "  <tbody>\n",
       "    <tr>\n",
       "      <th>count</th>\n",
       "      <td>5664.000000</td>\n",
       "      <td>5865.000000</td>\n",
       "    </tr>\n",
       "    <tr>\n",
       "      <th>mean</th>\n",
       "      <td>4.224929</td>\n",
       "      <td>4.654306</td>\n",
       "    </tr>\n",
       "    <tr>\n",
       "      <th>std</th>\n",
       "      <td>3.263339</td>\n",
       "      <td>4.088610</td>\n",
       "    </tr>\n",
       "    <tr>\n",
       "      <th>min</th>\n",
       "      <td>1.000000</td>\n",
       "      <td>0.001000</td>\n",
       "    </tr>\n",
       "    <tr>\n",
       "      <th>25%</th>\n",
       "      <td>1.000000</td>\n",
       "      <td>0.451000</td>\n",
       "    </tr>\n",
       "    <tr>\n",
       "      <th>50%</th>\n",
       "      <td>3.000000</td>\n",
       "      <td>3.547500</td>\n",
       "    </tr>\n",
       "    <tr>\n",
       "      <th>75%</th>\n",
       "      <td>7.000000</td>\n",
       "      <td>9.396500</td>\n",
       "    </tr>\n",
       "    <tr>\n",
       "      <th>max</th>\n",
       "      <td>10.000000</td>\n",
       "      <td>9.999000</td>\n",
       "    </tr>\n",
       "  </tbody>\n",
       "</table>\n",
       "</div>"
      ],
      "text/plain": [
       "            Scores  nltk_scores\n",
       "count  5664.000000  5865.000000\n",
       "mean      4.224929     4.654306\n",
       "std       3.263339     4.088610\n",
       "min       1.000000     0.001000\n",
       "25%       1.000000     0.451000\n",
       "50%       3.000000     3.547500\n",
       "75%       7.000000     9.396500\n",
       "max      10.000000     9.999000"
      ]
     },
     "execution_count": 15,
     "metadata": {},
     "output_type": "execute_result"
    }
   ],
   "source": [
    "tlj.describe()"
   ]
  },
  {
   "cell_type": "markdown",
   "metadata": {},
   "source": [
    "### Score to Sentiment Settings\n",
    "Based on the above and general intuition about movie scoring, I'll set the sentiment values for numerical scores like this. A key thing to bear in mind here though is that even humans would have a hard time consistently translating the valence of a review into a score if they didn't write the review themselves. \n",
    "- __IMDb Scores__\n",
    "    - 0 - 4 = \"Negative\"\n",
    "    - 5 - 6 = \"Neutral\"\n",
    "    - 7 - 10 = \"Positive\"\n",
    "- __NLTK Scores__\n",
    "    - 0.00 - 4.50 = \"Negative\"\n",
    "    - 4.51 - 6.99 = \"Neutral\"\n",
    "    - 7.00 - 10.0 = \"Positive\""
   ]
  },
  {
   "cell_type": "code",
   "execution_count": 16,
   "metadata": {
    "ExecuteTime": {
     "end_time": "2020-08-23T20:55:43.019116Z",
     "start_time": "2020-08-23T20:55:43.010863Z"
    }
   },
   "outputs": [],
   "source": [
    "# Apply sentiments from nltk scores\n",
    "nltk_sentiments = []\n",
    "for i in tlj['nltk_scores']:\n",
    "    if i >= 7:\n",
    "        nltk_sentiments.append('positive')\n",
    "    elif i > 4.5:\n",
    "        nltk_sentiments.append('neutral')\n",
    "    else:\n",
    "        nltk_sentiments.append('negative')\n",
    "\n",
    "IMDb_sentiments = []\n",
    "for i in tlj['Scores']:\n",
    "    if i >= 7:\n",
    "        IMDb_sentiments.append('positive')\n",
    "    elif i >= 5:\n",
    "        IMDb_sentiments.append('neutral')\n",
    "    else:\n",
    "        IMDb_sentiments.append('negative')"
   ]
  },
  {
   "cell_type": "code",
   "execution_count": 17,
   "metadata": {
    "ExecuteTime": {
     "end_time": "2020-08-23T20:55:43.675107Z",
     "start_time": "2020-08-23T20:55:43.671086Z"
    }
   },
   "outputs": [],
   "source": [
    "tlj['nltk_sentiments'] = pd.Series(nltk_sentiments)\n",
    "tlj['IMDb_sentiments'] = pd.Series(IMDb_sentiments)"
   ]
  },
  {
   "cell_type": "markdown",
   "metadata": {},
   "source": [
    "### Sentiment Results for IMDb Score and NLTK Sentiment"
   ]
  },
  {
   "cell_type": "code",
   "execution_count": 18,
   "metadata": {
    "ExecuteTime": {
     "end_time": "2020-08-23T20:55:44.630817Z",
     "start_time": "2020-08-23T20:55:44.624324Z"
    }
   },
   "outputs": [
    {
     "name": "stdout",
     "output_type": "stream",
     "text": [
      "negative    3108\n",
      "positive    2311\n",
      "neutral      446\n",
      "Name: nltk_sentiments, dtype: int64\n",
      "negative    3567\n",
      "positive    1696\n",
      "neutral      602\n",
      "Name: IMDb_sentiments, dtype: int64\n"
     ]
    }
   ],
   "source": [
    "print(tlj['nltk_sentiments'].value_counts())\n",
    "print(tlj['IMDb_sentiments'].value_counts())"
   ]
  },
  {
   "cell_type": "markdown",
   "metadata": {},
   "source": [
    "### Calculate recall of nltk sentiment analysis\n",
    "Recall in this case assumes that users scores are accurately reflecting the sentiment of their review. This should generally be the case, but highlights the difference between \"sentiment\" and \"score\". "
   ]
  },
  {
   "cell_type": "code",
   "execution_count": 19,
   "metadata": {
    "ExecuteTime": {
     "end_time": "2020-08-23T20:55:46.623300Z",
     "start_time": "2020-08-23T20:55:46.607282Z"
    }
   },
   "outputs": [],
   "source": [
    "sent_true = np.array(tlj['IMDb_sentiments'])\n",
    "sent_pred = np.array(tlj['nltk_sentiments'])\n",
    "sent_conf = confusion_matrix(sent_true,sent_pred)"
   ]
  },
  {
   "cell_type": "code",
   "execution_count": 20,
   "metadata": {
    "ExecuteTime": {
     "end_time": "2020-08-23T20:55:47.258250Z",
     "start_time": "2020-08-23T20:55:47.254827Z"
    }
   },
   "outputs": [
    {
     "data": {
      "text/plain": [
       "array([[2442,  295,  830],\n",
       "       [ 271,   53,  278],\n",
       "       [ 395,   98, 1203]])"
      ]
     },
     "execution_count": 20,
     "metadata": {},
     "output_type": "execute_result"
    }
   ],
   "source": [
    "sent_conf"
   ]
  },
  {
   "cell_type": "code",
   "execution_count": 21,
   "metadata": {
    "ExecuteTime": {
     "end_time": "2020-08-23T20:55:48.388291Z",
     "start_time": "2020-08-23T20:55:48.215712Z"
    }
   },
   "outputs": [
    {
     "data": {
      "image/png": "[encoded data removed]",
      "text/plain": [
       "<Figure size 720x504 with 2 Axes>"
      ]
     },
     "metadata": {
      "needs_background": "light"
     },
     "output_type": "display_data"
    }
   ],
   "source": [
    "# Confusion Matrix of results for nltk predictions and IMDb truth\n",
    "cm = print_confusion_matrix(sent_conf, ['negative', 'neutral', 'positive'])"
   ]
  },
  {
   "cell_type": "markdown",
   "metadata": {},
   "source": [
    "### Manual Calculations\n",
    "- Note I did these manual recall calculations below before I knew about the metrics functions in sklearn. Keeping them in for fun."
   ]
  },
  {
   "cell_type": "code",
   "execution_count": 22,
   "metadata": {
    "ExecuteTime": {
     "end_time": "2020-08-23T20:55:51.804628Z",
     "start_time": "2020-08-23T20:55:51.799557Z"
    }
   },
   "outputs": [],
   "source": [
    "# Calculate individual recall\n",
    "negative_recall = sent_conf[0,0]/np.sum(sent_conf[0])\n",
    "neutral_recall = sent_conf[1,1]/np.sum(sent_conf[1])\n",
    "positive_recall = sent_conf[2,2]/np.sum(sent_conf[2])\n",
    "\n",
    "# Calculate weight of each category\n",
    "total = np.sum(sent_conf)\n",
    "neg_wt = np.sum(sent_conf[0])/total\n",
    "neu_wt = np.sum(sent_conf[1])/total\n",
    "pos_wt = np.sum(sent_conf[2])/total\n",
    "\n",
    "# Calculate weighted overall accuracy\n",
    "overall_recall = (negative_recall*neg_wt\n",
    "                    + neutral_recall*neu_wt\n",
    "                    + positive_recall*pos_wt)"
   ]
  },
  {
   "cell_type": "code",
   "execution_count": 23,
   "metadata": {
    "ExecuteTime": {
     "end_time": "2020-08-23T20:55:52.465105Z",
     "start_time": "2020-08-23T20:55:52.459371Z"
    }
   },
   "outputs": [
    {
     "name": "stdout",
     "output_type": "stream",
     "text": [
      "Accuracy\n",
      "Negative recall: 0.6846089150546678\n",
      "Neutral recall: 0.08803986710963455\n",
      "Positive recall: 0.7093160377358491\n",
      "\n",
      "Weights\n",
      "Negative weight: 0.6081841432225064\n",
      "Neutral weight: 0.10264279624893435\n",
      "Positive weight: 0.28917306052855923\n",
      "\n",
      "Overall accuracy: 0.6305200341005968\n"
     ]
    }
   ],
   "source": [
    "print('Accuracy')\n",
    "print('Negative recall:',negative_recall)\n",
    "print('Neutral recall:',neutral_recall)\n",
    "print('Positive recall:',positive_recall)\n",
    "print()\n",
    "print('Weights')\n",
    "print('Negative weight:',neg_wt)\n",
    "print('Neutral weight:',neu_wt)\n",
    "print('Positive weight:',pos_wt)\n",
    "print()\n",
    "print('Overall accuracy:', overall_recall)"
   ]
  },
  {
   "cell_type": "markdown",
   "metadata": {},
   "source": [
    "- Not amazing accuracy. Some of this is undoubtedly due to the difference between a score and perceived sentiment, which may not align even be consistent with the user writing them.\n",
    "- However, if the sentiment analysis is accurate it should be much higher than this. We'll see if other methods work better. "
   ]
  },
  {
   "cell_type": "markdown",
   "metadata": {},
   "source": [
    "## Sentiment Analysis with Google Cloud\n",
    "Try the Google Cloud sentiment analyzer and compare to NLTK"
   ]
  },
  {
   "cell_type": "code",
   "execution_count": 32,
   "metadata": {},
   "outputs": [],
   "source": [
    "# # Instantiates a client\n",
    "# path = open('/Users/starplatinum87/Google Drive/google_cloud_account_credential/google_cloud_credential_path.txt','r').read().strip()\n",
    "\n",
    "# # Authenticate client\n",
    "# client = language.LanguageServiceClient.from_service_account_json(path)"
   ]
  },
  {
   "cell_type": "markdown",
   "metadata": {},
   "source": [
    "#### Notes on Google API scoring\n",
    "- __magnitude__ - A non-negative number in the (0, +inf) range, which represents the absolute magnitude of sentiment regardless of score (positive or negative).\n",
    "- __score__ - Sentiment score between -1.0 (negative sentiment) and 1.0 (positive sentiment).\n",
    "- https://cloud.google.com/natural-language/docs/reference/rest/v1/Sentiment"
   ]
  },
  {
   "cell_type": "code",
   "execution_count": 33,
   "metadata": {},
   "outputs": [
    {
     "name": "stdout",
     "output_type": "stream",
     "text": [
      "CPU times: user 26.2 ms, sys: 7.92 ms, total: 34.2 ms\n",
      "Wall time: 821 ms\n"
     ]
    }
   ],
   "source": [
    "# %%time\n",
    "# # Test sentiment analysis on first review\n",
    "# text = tlj['Reviews'].iloc[0]\n",
    "# document = types.Document(\n",
    "#     content=text, \n",
    "#     type=enums.Document.Type.PLAIN_TEXT)\n",
    "# sentiment = client.analyze_sentiment(document=document).document_sentiment"
   ]
  },
  {
   "cell_type": "code",
   "execution_count": 34,
   "metadata": {
    "scrolled": false
   },
   "outputs": [
    {
     "name": "stdout",
     "output_type": "stream",
     "text": [
      "Score: -0.699999988079071\n",
      "Magnitude: 1.399999976158142\n"
     ]
    }
   ],
   "source": [
    "# print('Score:', sentiment.score)\n",
    "# print('Magnitude:', sentiment.magnitude)"
   ]
  },
  {
   "cell_type": "code",
   "execution_count": 35,
   "metadata": {},
   "outputs": [],
   "source": [
    "# # Run Google Sentiment Analysis on all reviews\n",
    "# gscore = []\n",
    "# gmag = []\n",
    "# for i in tlj['Reviews']:\n",
    "#     document = types.Document(\n",
    "#         content=i,\n",
    "#         type=enums.Document.Type.PLAIN_TEXT)\n",
    "#     sentiment = client.analyze_sentiment(document=document).document_sentiment\n",
    "#     gscore.append(sentiment.score)\n",
    "#     gmag.append(sentiment.magnitude)"
   ]
  },
  {
   "cell_type": "markdown",
   "metadata": {},
   "source": [
    "## Import Pickled Google Sentiment Scores\n",
    "- Import scores generated from the code above"
   ]
  },
  {
   "cell_type": "code",
   "execution_count": 24,
   "metadata": {
    "ExecuteTime": {
     "end_time": "2020-08-23T20:56:18.211045Z",
     "start_time": "2020-08-23T20:56:18.205084Z"
    }
   },
   "outputs": [],
   "source": [
    "# Import pickled Google sentiment scores\n",
    "gscore = pickle.load(open('../data/pickles/sentiment_analysis/google_sentiment_scores.pickle', 'rb'))\n",
    "gmag = pickle.load(open('../data/pickles/sentiment_analysis/google_magnitude_scores.pickle', 'rb'))"
   ]
  },
  {
   "cell_type": "code",
   "execution_count": 25,
   "metadata": {
    "ExecuteTime": {
     "end_time": "2020-08-23T20:56:19.393342Z",
     "start_time": "2020-08-23T20:56:19.388409Z"
    }
   },
   "outputs": [],
   "source": [
    "# Add Google scores to tlj df\n",
    "tlj['google_score'] = pd.Series(gscore)\n",
    "tlj['google_magnitude'] = pd.Series(gmag)"
   ]
  },
  {
   "cell_type": "code",
   "execution_count": 38,
   "metadata": {},
   "outputs": [],
   "source": [
    "# with open('tlj_v2', 'wb') as write_file:\n",
    "#     pickle.dump(tlj, write_file)"
   ]
  },
  {
   "cell_type": "code",
   "execution_count": 39,
   "metadata": {},
   "outputs": [],
   "source": [
    "# with open('google_sentiment_scores.pickle', 'wb') as write_file:\n",
    "#     pickle.dump(gscore, write_file)\n",
    "    \n",
    "# with open('google_magnitude_scores.pickle', 'wb') as write_file:\n",
    "#     pickle.dump(gmag, write_file)"
   ]
  },
  {
   "cell_type": "code",
   "execution_count": 26,
   "metadata": {
    "ExecuteTime": {
     "end_time": "2020-08-23T20:56:22.203676Z",
     "start_time": "2020-08-23T20:56:22.189705Z"
    }
   },
   "outputs": [
    {
     "data": {
      "text/plain": [
       "[1.5000000596046448,\n",
       " 3.999999985098839,\n",
       " 1.5000000596046448,\n",
       " 0.5000001192092896,\n",
       " 0.5000001192092896,\n",
       " 2.5,\n",
       " 0.5000001192092896,\n",
       " 1.5000000596046448,\n",
       " 1.5000000596046448,\n",
       " 0.5000001192092896,\n",
       " 0.9999999403953552,\n",
       " 7.5,\n",
       " 0.5000001192092896,\n",
       " 0.5000001192092896,\n",
       " 0.9999999403953552,\n",
       " 0.5000001192092896,\n",
       " 0.9999999403953552,\n",
       " 7.5,\n",
       " 0.5000001192092896,\n",
       " 0.5000001192092896,\n",
       " 0.5000001192092896,\n",
       " 1.5000000596046448,\n",
       " 0.9999999403953552,\n",
       " 1.5000000596046448,\n",
       " 0.5000001192092896,\n",
       " 2.9999999701976776,\n",
       " 0.9999999403953552,\n",
       " 0.5000001192092896,\n",
       " 1.5000000596046448,\n",
       " 0.5000001192092896,\n",
       " 1.5000000596046448,\n",
       " 0.9999999403953552,\n",
       " 0.5000001192092896,\n",
       " 0.5000001192092896,\n",
       " 0.9999999403953552,\n",
       " 0.9999999403953552,\n",
       " 0.5000001192092896,\n",
       " 0.5000001192092896,\n",
       " 1.5000000596046448,\n",
       " 0.9999999403953552,\n",
       " 0.5000001192092896,\n",
       " 1.5000000596046448,\n",
       " 1.5000000596046448,\n",
       " 0.9999999403953552,\n",
       " 1.5000000596046448,\n",
       " 0.9999999403953552,\n",
       " 1.5000000596046448,\n",
       " 0.9999999403953552,\n",
       " 1.5000000596046448,\n",
       " 8.499999940395355,\n",
       " 0.5000001192092896,\n",
       " 1.5000000596046448,\n",
       " 0.9999999403953552,\n",
       " 0.5000001192092896,\n",
       " 6.500000059604645,\n",
       " 7.000000029802322,\n",
       " 0.5000001192092896,\n",
       " 0.9999999403953552,\n",
       " 0.5000001192092896,\n",
       " 0.5000001192092896,\n",
       " 0.9999999403953552,\n",
       " 3.999999985098839,\n",
       " 1.5000000596046448,\n",
       " 0.5000001192092896,\n",
       " 0.5000001192092896,\n",
       " 0.5000001192092896,\n",
       " 4.499999992549419,\n",
       " 1.9999998807907104,\n",
       " 3.4999999403953552,\n",
       " 0.5000001192092896,\n",
       " 0.9999999403953552,\n",
       " 2.9999999701976776,\n",
       " 0.9999999403953552,\n",
       " 6.000000014901161,\n",
       " 1.5000000596046448,\n",
       " 7.5,\n",
       " 0.5000001192092896,\n",
       " 0.5000001192092896,\n",
       " 0.5000001192092896,\n",
       " 3.4999999403953552,\n",
       " 1.5000000596046448,\n",
       " 0.9999999403953552,\n",
       " 0.5000001192092896,\n",
       " 5.0,\n",
       " 0.5000001192092896,\n",
       " 1.5000000596046448,\n",
       " 1.5000000596046448,\n",
       " 2.5,\n",
       " 0.5000001192092896,\n",
       " 0.5000001192092896,\n",
       " 1.5000000596046448,\n",
       " 0.5000001192092896,\n",
       " 1.9999998807907104,\n",
       " 1.5000000596046448,\n",
       " 0.5000001192092896,\n",
       " 0.5000001192092896,\n",
       " 3.4999999403953552,\n",
       " 0.5000001192092896,\n",
       " 0.5000001192092896,\n",
       " 0.9999999403953552,\n",
       " 0.5000001192092896,\n",
       " 0.5000001192092896,\n",
       " 1.5000000596046448,\n",
       " 1.5000000596046448,\n",
       " 0.5000001192092896,\n",
       " 0.9999999403953552,\n",
       " 5.0,\n",
       " 3.999999985098839,\n",
       " 0.5000001192092896,\n",
       " 0.5000001192092896,\n",
       " 1.5000000596046448,\n",
       " 5.0,\n",
       " 6.000000014901161,\n",
       " 1.5000000596046448,\n",
       " 0.5000001192092896,\n",
       " 1.9999998807907104,\n",
       " 2.5,\n",
       " 2.5,\n",
       " 3.4999999403953552,\n",
       " 0.5000001192092896,\n",
       " 2.5,\n",
       " 0.5000001192092896,\n",
       " 0.5000001192092896,\n",
       " 0.5000001192092896,\n",
       " 0.9999999403953552,\n",
       " 1.5000000596046448,\n",
       " 0.5000001192092896,\n",
       " 0.5000001192092896,\n",
       " 0.5000001192092896,\n",
       " 0.5000001192092896,\n",
       " 0.5000001192092896,\n",
       " 0.5000001192092896,\n",
       " 1.9999998807907104,\n",
       " 0.5000001192092896,\n",
       " 1.5000000596046448,\n",
       " 1.5000000596046448,\n",
       " 0.5000001192092896,\n",
       " 0.5000001192092896,\n",
       " 0.5000001192092896,\n",
       " 1.9999998807907104,\n",
       " 1.9999998807907104,\n",
       " 0.9999999403953552,\n",
       " 0.5000001192092896,\n",
       " 0.5000001192092896,\n",
       " 0.5000001192092896,\n",
       " 0.5000001192092896,\n",
       " 0.5000001192092896,\n",
       " 2.9999999701976776,\n",
       " 0.5000001192092896,\n",
       " 2.9999999701976776,\n",
       " 0.9999999403953552,\n",
       " 0.5000001192092896,\n",
       " 2.5,\n",
       " 0.5000001192092896,\n",
       " 0.5000001192092896,\n",
       " 0.5000001192092896,\n",
       " 0.9999999403953552,\n",
       " 7.5,\n",
       " 0.9999999403953552,\n",
       " 1.5000000596046448,\n",
       " 4.499999992549419,\n",
       " 5.0,\n",
       " 0.9999999403953552,\n",
       " 0.5000001192092896,\n",
       " 0.5000001192092896,\n",
       " 2.5,\n",
       " 0.5000001192092896,\n",
       " 0.5000001192092896,\n",
       " 0.5000001192092896,\n",
       " 0.5000001192092896,\n",
       " 0.9999999403953552,\n",
       " 0.5000001192092896,\n",
       " 0.5000001192092896,\n",
       " 2.9999999701976776,\n",
       " 2.9999999701976776,\n",
       " 0.9999999403953552,\n",
       " 3.999999985098839,\n",
       " 0.9999999403953552,\n",
       " 0.5000001192092896,\n",
       " 1.9999998807907104,\n",
       " 1.5000000596046448,\n",
       " 0.5000001192092896,\n",
       " 0.5000001192092896,\n",
       " 5.500000007450581,\n",
       " 0.5000001192092896,\n",
       " 0.5000001192092896,\n",
       " 2.5,\n",
       " 0.5000001192092896,\n",
       " 4.499999992549419,\n",
       " 0.5000001192092896,\n",
       " 0.9999999403953552,\n",
       " 5.0,\n",
       " 1.9999998807907104,\n",
       " 7.5,\n",
       " 0.9999999403953552,\n",
       " 2.5,\n",
       " 3.4999999403953552,\n",
       " 2.5,\n",
       " 0.5000001192092896,\n",
       " 2.5,\n",
       " 2.5,\n",
       " 0.5000001192092896,\n",
       " 0.5000001192092896,\n",
       " 2.9999999701976776,\n",
       " 0.5000001192092896,\n",
       " 4.499999992549419,\n",
       " 0.5000001192092896,\n",
       " 0.5000001192092896,\n",
       " 0.5000001192092896,\n",
       " 0.5000001192092896,\n",
       " 1.9999998807907104,\n",
       " 0.5000001192092896,\n",
       " 1.5000000596046448,\n",
       " 0.5000001192092896,\n",
       " 0.5000001192092896,\n",
       " 3.4999999403953552,\n",
       " 0.5000001192092896,\n",
       " 0.5000001192092896,\n",
       " 3.4999999403953552,\n",
       " 0.5000001192092896,\n",
       " 5.500000007450581,\n",
       " 0.5000001192092896,\n",
       " 0.9999999403953552,\n",
       " 2.9999999701976776,\n",
       " 0.5000001192092896,\n",
       " 0.5000001192092896,\n",
       " 1.9999998807907104,\n",
       " 0.5000001192092896,\n",
       " 2.5,\n",
       " 1.9999998807907104,\n",
       " 1.9999998807907104,\n",
       " 2.5,\n",
       " 0.5000001192092896,\n",
       " 2.5,\n",
       " 2.5,\n",
       " 0.5000001192092896,\n",
       " 5.0,\n",
       " 8.00000011920929,\n",
       " 1.5000000596046448,\n",
       " 0.9999999403953552,\n",
       " 0.5000001192092896,\n",
       " 0.9999999403953552,\n",
       " 0.5000001192092896,\n",
       " 0.5000001192092896,\n",
       " 0.5000001192092896,\n",
       " 0.9999999403953552,\n",
       " 0.5000001192092896,\n",
       " 0.5000001192092896,\n",
       " 1.5000000596046448,\n",
       " 0.5000001192092896,\n",
       " 2.9999999701976776,\n",
       " 1.9999998807907104,\n",
       " 2.5,\n",
       " 4.499999992549419,\n",
       " 0.5000001192092896,\n",
       " 0.5000001192092896,\n",
       " 0.5000001192092896,\n",
       " 0.5000001192092896,\n",
       " 0.9999999403953552,\n",
       " 0.9999999403953552,\n",
       " 1.5000000596046448,\n",
       " 0.9999999403953552,\n",
       " 0.5000001192092896,\n",
       " 0.9999999403953552,\n",
       " 1.9999998807907104,\n",
       " 0.9999999403953552,\n",
       " 0.5000001192092896,\n",
       " 0.5000001192092896,\n",
       " 0.5000001192092896,\n",
       " 0.5000001192092896,\n",
       " 0.5000001192092896,\n",
       " 0.5000001192092896,\n",
       " 1.5000000596046448,\n",
       " 0.5000001192092896,\n",
       " 0.5000001192092896,\n",
       " 5.0,\n",
       " 0.5000001192092896,\n",
       " 2.5,\n",
       " 0.5000001192092896,\n",
       " 3.4999999403953552,\n",
       " 1.5000000596046448,\n",
       " 1.5000000596046448,\n",
       " 0.5000001192092896,\n",
       " 0.5000001192092896,\n",
       " 0.5000001192092896,\n",
       " 0.5000001192092896,\n",
       " 5.0,\n",
       " 0.5000001192092896,\n",
       " 0.5000001192092896,\n",
       " 5.0,\n",
       " 0.9999999403953552,\n",
       " 0.5000001192092896,\n",
       " 0.5000001192092896,\n",
       " 4.499999992549419,\n",
       " 0.5000001192092896,\n",
       " 0.5000001192092896,\n",
       " 0.9999999403953552,\n",
       " 0.5000001192092896,\n",
       " 0.5000001192092896,\n",
       " 0.9999999403953552,\n",
       " 0.5000001192092896,\n",
       " 0.5000001192092896,\n",
       " 4.499999992549419,\n",
       " 0.9999999403953552,\n",
       " 0.5000001192092896,\n",
       " 0.5000001192092896,\n",
       " 6.500000059604645,\n",
       " 0.5000001192092896,\n",
       " 0.5000001192092896,\n",
       " 1.9999998807907104,\n",
       " 0.5000001192092896,\n",
       " 2.9999999701976776,\n",
       " 0.5000001192092896,\n",
       " 0.5000001192092896,\n",
       " 0.5000001192092896,\n",
       " 0.5000001192092896,\n",
       " 0.9999999403953552,\n",
       " 0.9999999403953552,\n",
       " 0.5000001192092896,\n",
       " 0.5000001192092896,\n",
       " 1.5000000596046448,\n",
       " 0.5000001192092896,\n",
       " 5.0,\n",
       " 1.5000000596046448,\n",
       " 1.5000000596046448,\n",
       " 0.5000001192092896,\n",
       " 0.9999999403953552,\n",
       " 0.9999999403953552,\n",
       " 0.5000001192092896,\n",
       " 1.9999998807907104,\n",
       " 2.5,\n",
       " 0.5000001192092896,\n",
       " 0.5000001192092896,\n",
       " 3.999999985098839,\n",
       " 1.9999998807907104,\n",
       " 0.5000001192092896,\n",
       " 2.9999999701976776,\n",
       " 1.9999998807907104,\n",
       " 4.499999992549419,\n",
       " 5.0,\n",
       " 0.5000001192092896,\n",
       " 0.9999999403953552,\n",
       " 2.9999999701976776,\n",
       " 0.5000001192092896,\n",
       " 0.5000001192092896,\n",
       " 3.999999985098839,\n",
       " 1.9999998807907104,\n",
       " 0.5000001192092896,\n",
       " 0.9999999403953552,\n",
       " 0.9999999403953552,\n",
       " 0.5000001192092896,\n",
       " 1.9999998807907104,\n",
       " 0.9999999403953552,\n",
       " 0.5000001192092896,\n",
       " 0.5000001192092896,\n",
       " 2.9999999701976776,\n",
       " 5.0,\n",
       " 0.5000001192092896,\n",
       " 0.5000001192092896,\n",
       " 0.9999999403953552,\n",
       " 1.5000000596046448,\n",
       " 0.9999999403953552,\n",
       " 0.9999999403953552,\n",
       " 0.5000001192092896,\n",
       " 0.5000001192092896,\n",
       " 1.9999998807907104,\n",
       " 0.5000001192092896,\n",
       " 0.5000001192092896,\n",
       " 0.5000001192092896,\n",
       " 0.5000001192092896,\n",
       " 3.4999999403953552,\n",
       " 0.5000001192092896,\n",
       " 0.9999999403953552,\n",
       " 5.0,\n",
       " 0.5000001192092896,\n",
       " 0.5000001192092896,\n",
       " 1.9999998807907104,\n",
       " 2.5,\n",
       " 0.5000001192092896,\n",
       " 0.5000001192092896,\n",
       " 1.5000000596046448,\n",
       " 0.5000001192092896,\n",
       " 0.9999999403953552,\n",
       " 1.9999998807907104,\n",
       " 0.5000001192092896,\n",
       " 0.9999999403953552,\n",
       " 0.9999999403953552,\n",
       " 0.5000001192092896,\n",
       " 1.5000000596046448,\n",
       " 1.9999998807907104,\n",
       " 0.9999999403953552,\n",
       " 1.9999998807907104,\n",
       " 0.9999999403953552,\n",
       " 3.999999985098839,\n",
       " 1.9999998807907104,\n",
       " 0.5000001192092896,\n",
       " 1.9999998807907104,\n",
       " 1.5000000596046448,\n",
       " 5.0,\n",
       " 0.9999999403953552,\n",
       " 2.9999999701976776,\n",
       " 0.5000001192092896,\n",
       " 0.5000001192092896,\n",
       " 1.9999998807907104,\n",
       " 0.5000001192092896,\n",
       " 0.9999999403953552,\n",
       " 0.5000001192092896,\n",
       " 3.999999985098839,\n",
       " 0.5000001192092896,\n",
       " 0.5000001192092896,\n",
       " 2.5,\n",
       " 0.9999999403953552,\n",
       " 0.9999999403953552,\n",
       " 0.5000001192092896,\n",
       " 3.999999985098839,\n",
       " 3.999999985098839,\n",
       " 0.5000001192092896,\n",
       " 3.4999999403953552,\n",
       " 0.5000001192092896,\n",
       " 0.9999999403953552,\n",
       " 2.9999999701976776,\n",
       " 1.9999998807907104,\n",
       " 0.5000001192092896,\n",
       " 0.5000001192092896,\n",
       " 0.5000001192092896,\n",
       " 0.5000001192092896,\n",
       " 1.9999998807907104,\n",
       " 0.5000001192092896,\n",
       " 0.5000001192092896,\n",
       " 0.5000001192092896,\n",
       " 2.9999999701976776,\n",
       " 0.5000001192092896,\n",
       " 0.5000001192092896,\n",
       " 5.0,\n",
       " 1.9999998807907104,\n",
       " 0.5000001192092896,\n",
       " 0.9999999403953552,\n",
       " 0.5000001192092896,\n",
       " 0.9999999403953552,\n",
       " 0.5000001192092896,\n",
       " 0.5000001192092896,\n",
       " 0.5000001192092896,\n",
       " 0.9999999403953552,\n",
       " 0.5000001192092896,\n",
       " 0.5000001192092896,\n",
       " 3.999999985098839,\n",
       " 0.5000001192092896,\n",
       " 0.5000001192092896,\n",
       " 5.0,\n",
       " 0.5000001192092896,\n",
       " 0.5000001192092896,\n",
       " 1.9999998807907104,\n",
       " 2.5,\n",
       " 0.5000001192092896,\n",
       " 1.9999998807907104,\n",
       " 0.5000001192092896,\n",
       " 0.9999999403953552,\n",
       " 0.9999999403953552,\n",
       " 0.5000001192092896,\n",
       " 1.5000000596046448,\n",
       " 0.5000001192092896,\n",
       " 1.9999998807907104,\n",
       " 1.5000000596046448,\n",
       " 0.5000001192092896,\n",
       " 0.5000001192092896,\n",
       " 4.499999992549419,\n",
       " 0.5000001192092896,\n",
       " 0.5000001192092896,\n",
       " 0.5000001192092896,\n",
       " 0.5000001192092896,\n",
       " 3.4999999403953552,\n",
       " 0.5000001192092896,\n",
       " 0.5000001192092896,\n",
       " 0.5000001192092896,\n",
       " 1.5000000596046448,\n",
       " 0.5000001192092896,\n",
       " 0.5000001192092896,\n",
       " 0.5000001192092896,\n",
       " 0.5000001192092896,\n",
       " 0.5000001192092896,\n",
       " 0.9999999403953552,\n",
       " 0.9999999403953552,\n",
       " 0.5000001192092896,\n",
       " 0.9999999403953552,\n",
       " 0.5000001192092896,\n",
       " 0.5000001192092896,\n",
       " 0.9999999403953552,\n",
       " 0.5000001192092896,\n",
       " 1.9999998807907104,\n",
       " 0.5000001192092896,\n",
       " 0.5000001192092896,\n",
       " 1.5000000596046448,\n",
       " 0.5000001192092896,\n",
       " 0.5000001192092896,\n",
       " 0.5000001192092896,\n",
       " 1.5000000596046448,\n",
       " 7.000000029802322,\n",
       " 6.000000014901161,\n",
       " 0.5000001192092896,\n",
       " 0.9999999403953552,\n",
       " 1.5000000596046448,\n",
       " 0.5000001192092896,\n",
       " 0.5000001192092896,\n",
       " 1.5000000596046448,\n",
       " 5.0,\n",
       " 0.5000001192092896,\n",
       " 1.9999998807907104,\n",
       " 0.5000001192092896,\n",
       " 0.5000001192092896,\n",
       " 0.5000001192092896,\n",
       " 1.9999998807907104,\n",
       " 0.5000001192092896,\n",
       " 0.5000001192092896,\n",
       " 0.5000001192092896,\n",
       " 0.5000001192092896,\n",
       " 0.5000001192092896,\n",
       " 0.5000001192092896,\n",
       " 0.5000001192092896,\n",
       " 0.9999999403953552,\n",
       " 3.999999985098839,\n",
       " 0.5000001192092896,\n",
       " 1.5000000596046448,\n",
       " 6.500000059604645,\n",
       " 5.0,\n",
       " 7.5,\n",
       " 0.5000001192092896,\n",
       " 0.9999999403953552,\n",
       " 2.5,\n",
       " 0.5000001192092896,\n",
       " 8.499999940395355,\n",
       " 0.5000001192092896,\n",
       " 0.9999999403953552,\n",
       " 0.5000001192092896,\n",
       " 1.5000000596046448,\n",
       " 0.5000001192092896,\n",
       " 3.4999999403953552,\n",
       " 0.5000001192092896,\n",
       " 0.5000001192092896,\n",
       " 0.9999999403953552,\n",
       " 0.5000001192092896,\n",
       " 2.9999999701976776,\n",
       " 1.5000000596046448,\n",
       " 3.999999985098839,\n",
       " 4.499999992549419,\n",
       " 0.9999999403953552,\n",
       " 0.9999999403953552,\n",
       " 1.9999998807907104,\n",
       " 0.5000001192092896,\n",
       " 1.9999998807907104,\n",
       " 1.9999998807907104,\n",
       " 1.9999998807907104,\n",
       " 0.9999999403953552,\n",
       " 2.5,\n",
       " 4.499999992549419,\n",
       " 0.5000001192092896,\n",
       " 5.0,\n",
       " 0.5000001192092896,\n",
       " 0.5000001192092896,\n",
       " 0.5000001192092896,\n",
       " 0.9999999403953552,\n",
       " 5.0,\n",
       " 7.000000029802322,\n",
       " 1.5000000596046448,\n",
       " 0.9999999403953552,\n",
       " 4.499999992549419,\n",
       " 2.5,\n",
       " 0.5000001192092896,\n",
       " 1.9999998807907104,\n",
       " 0.5000001192092896,\n",
       " 0.9999999403953552,\n",
       " 1.5000000596046448,\n",
       " 1.5000000596046448,\n",
       " 0.5000001192092896,\n",
       " 0.5000001192092896,\n",
       " 0.5000001192092896,\n",
       " 1.5000000596046448,\n",
       " 0.5000001192092896,\n",
       " 0.5000001192092896,\n",
       " 0.5000001192092896,\n",
       " 0.9999999403953552,\n",
       " 0.5000001192092896,\n",
       " 0.5000001192092896,\n",
       " 0.5000001192092896,\n",
       " 1.5000000596046448,\n",
       " 2.5,\n",
       " 0.5000001192092896,\n",
       " 0.5000001192092896,\n",
       " 0.5000001192092896,\n",
       " 0.5000001192092896,\n",
       " 0.5000001192092896,\n",
       " 0.5000001192092896,\n",
       " 0.9999999403953552,\n",
       " 0.9999999403953552,\n",
       " 1.5000000596046448,\n",
       " 0.5000001192092896,\n",
       " 0.5000001192092896,\n",
       " 0.9999999403953552,\n",
       " 0.5000001192092896,\n",
       " 1.5000000596046448,\n",
       " 0.5000001192092896,\n",
       " 0.5000001192092896,\n",
       " 2.9999999701976776,\n",
       " 0.5000001192092896,\n",
       " 0.9999999403953552,\n",
       " 0.5000001192092896,\n",
       " 0.5000001192092896,\n",
       " 0.5000001192092896,\n",
       " 1.9999998807907104,\n",
       " 0.5000001192092896,\n",
       " 0.5000001192092896,\n",
       " 0.5000001192092896,\n",
       " 0.5000001192092896,\n",
       " 0.5000001192092896,\n",
       " 2.5,\n",
       " 1.5000000596046448,\n",
       " 4.499999992549419,\n",
       " 0.9999999403953552,\n",
       " 0.5000001192092896,\n",
       " 0.5000001192092896,\n",
       " 0.5000001192092896,\n",
       " 2.9999999701976776,\n",
       " 0.9999999403953552,\n",
       " 0.5000001192092896,\n",
       " 0.5000001192092896,\n",
       " 2.5,\n",
       " 2.5,\n",
       " 0.5000001192092896,\n",
       " 0.5000001192092896,\n",
       " 1.9999998807907104,\n",
       " 0.9999999403953552,\n",
       " 0.5000001192092896,\n",
       " 0.5000001192092896,\n",
       " 1.5000000596046448,\n",
       " 1.5000000596046448,\n",
       " 6.500000059604645,\n",
       " 0.9999999403953552,\n",
       " 0.5000001192092896,\n",
       " 0.5000001192092896,\n",
       " 0.5000001192092896,\n",
       " 0.5000001192092896,\n",
       " 0.5000001192092896,\n",
       " 0.5000001192092896,\n",
       " 1.5000000596046448,\n",
       " 9.49999988079071,\n",
       " 0.5000001192092896,\n",
       " 0.5000001192092896,\n",
       " 0.5000001192092896,\n",
       " 1.9999998807907104,\n",
       " 0.5000001192092896,\n",
       " 0.5000001192092896,\n",
       " 0.5000001192092896,\n",
       " 0.5000001192092896,\n",
       " 0.5000001192092896,\n",
       " 0.5000001192092896,\n",
       " 8.00000011920929,\n",
       " 0.5000001192092896,\n",
       " 2.5,\n",
       " 3.999999985098839,\n",
       " 0.5000001192092896,\n",
       " 0.9999999403953552,\n",
       " 0.5000001192092896,\n",
       " 1.5000000596046448,\n",
       " 0.5000001192092896,\n",
       " 0.9999999403953552,\n",
       " 1.5000000596046448,\n",
       " 0.5000001192092896,\n",
       " 0.5000001192092896,\n",
       " 0.5000001192092896,\n",
       " 3.4999999403953552,\n",
       " 2.5,\n",
       " 3.999999985098839,\n",
       " 0.5000001192092896,\n",
       " 0.5000001192092896,\n",
       " 0.9999999403953552,\n",
       " 0.5000001192092896,\n",
       " 0.5000001192092896,\n",
       " 1.9999998807907104,\n",
       " 0.5000001192092896,\n",
       " 0.5000001192092896,\n",
       " 0.9999999403953552,\n",
       " 0.9999999403953552,\n",
       " 4.499999992549419,\n",
       " 1.5000000596046448,\n",
       " 1.5000000596046448,\n",
       " 0.9999999403953552,\n",
       " 2.5,\n",
       " 0.9999999403953552,\n",
       " 0.9999999403953552,\n",
       " 0.5000001192092896,\n",
       " 0.5000001192092896,\n",
       " 0.9999999403953552,\n",
       " 0.5000001192092896,\n",
       " 0.5000001192092896,\n",
       " 0.9999999403953552,\n",
       " 0.5000001192092896,\n",
       " 0.9999999403953552,\n",
       " 0.5000001192092896,\n",
       " 0.5000001192092896,\n",
       " 0.5000001192092896,\n",
       " 0.5000001192092896,\n",
       " 0.9999999403953552,\n",
       " 0.5000001192092896,\n",
       " 1.5000000596046448,\n",
       " 0.5000001192092896,\n",
       " 0.5000001192092896,\n",
       " 0.5000001192092896,\n",
       " 2.9999999701976776,\n",
       " 0.5000001192092896,\n",
       " 0.9999999403953552,\n",
       " 0.5000001192092896,\n",
       " 3.999999985098839,\n",
       " 2.5,\n",
       " 2.9999999701976776,\n",
       " 0.5000001192092896,\n",
       " 4.499999992549419,\n",
       " 0.9999999403953552,\n",
       " 0.9999999403953552,\n",
       " 0.5000001192092896,\n",
       " 0.5000001192092896,\n",
       " 0.5000001192092896,\n",
       " 3.4999999403953552,\n",
       " 2.9999999701976776,\n",
       " 0.5000001192092896,\n",
       " 0.5000001192092896,\n",
       " 0.5000001192092896,\n",
       " 1.5000000596046448,\n",
       " 0.9999999403953552,\n",
       " 5.0,\n",
       " 0.5000001192092896,\n",
       " 2.5,\n",
       " 0.5000001192092896,\n",
       " 0.5000001192092896,\n",
       " 1.5000000596046448,\n",
       " 2.5,\n",
       " 8.499999940395355,\n",
       " 0.5000001192092896,\n",
       " 3.999999985098839,\n",
       " 0.5000001192092896,\n",
       " 0.5000001192092896,\n",
       " 0.5000001192092896,\n",
       " 0.5000001192092896,\n",
       " 0.9999999403953552,\n",
       " 2.5,\n",
       " 1.5000000596046448,\n",
       " 0.5000001192092896,\n",
       " 0.5000001192092896,\n",
       " 0.5000001192092896,\n",
       " 0.5000001192092896,\n",
       " 1.5000000596046448,\n",
       " 0.9999999403953552,\n",
       " 0.5000001192092896,\n",
       " 4.499999992549419,\n",
       " 0.9999999403953552,\n",
       " 0.5000001192092896,\n",
       " 0.5000001192092896,\n",
       " 4.499999992549419,\n",
       " 0.5000001192092896,\n",
       " 0.5000001192092896,\n",
       " 0.5000001192092896,\n",
       " 0.5000001192092896,\n",
       " 0.5000001192092896,\n",
       " 3.999999985098839,\n",
       " 3.999999985098839,\n",
       " 0.9999999403953552,\n",
       " 0.5000001192092896,\n",
       " 1.9999998807907104,\n",
       " 0.5000001192092896,\n",
       " 0.5000001192092896,\n",
       " 1.5000000596046448,\n",
       " 2.9999999701976776,\n",
       " 0.5000001192092896,\n",
       " 1.5000000596046448,\n",
       " 0.9999999403953552,\n",
       " 0.9999999403953552,\n",
       " 0.5000001192092896,\n",
       " 0.5000001192092896,\n",
       " 0.5000001192092896,\n",
       " 5.0,\n",
       " 0.5000001192092896,\n",
       " 2.5,\n",
       " 0.9999999403953552,\n",
       " 0.9999999403953552,\n",
       " 1.5000000596046448,\n",
       " 0.5000001192092896,\n",
       " 1.5000000596046448,\n",
       " 0.5000001192092896,\n",
       " 7.000000029802322,\n",
       " 8.499999940395355,\n",
       " 0.9999999403953552,\n",
       " 1.5000000596046448,\n",
       " 8.00000011920929,\n",
       " 3.999999985098839,\n",
       " 1.5000000596046448,\n",
       " 0.5000001192092896,\n",
       " 7.000000029802322,\n",
       " 5.0,\n",
       " 0.5000001192092896,\n",
       " 0.9999999403953552,\n",
       " 0.5000001192092896,\n",
       " 0.5000001192092896,\n",
       " 0.5000001192092896,\n",
       " 0.5000001192092896,\n",
       " 0.5000001192092896,\n",
       " 0.5000001192092896,\n",
       " 0.9999999403953552,\n",
       " 5.0,\n",
       " 0.5000001192092896,\n",
       " 0.9999999403953552,\n",
       " 2.5,\n",
       " 0.5000001192092896,\n",
       " 1.5000000596046448,\n",
       " 0.5000001192092896,\n",
       " 0.5000001192092896,\n",
       " 2.9999999701976776,\n",
       " 1.5000000596046448,\n",
       " 0.5000001192092896,\n",
       " 0.5000001192092896,\n",
       " 2.5,\n",
       " 0.9999999403953552,\n",
       " 1.9999998807907104,\n",
       " 0.5000001192092896,\n",
       " 0.9999999403953552,\n",
       " 0.5000001192092896,\n",
       " 1.5000000596046448,\n",
       " 1.9999998807907104,\n",
       " 1.9999998807907104,\n",
       " 0.5000001192092896,\n",
       " 7.000000029802322,\n",
       " 0.5000001192092896,\n",
       " 0.9999999403953552,\n",
       " 0.5000001192092896,\n",
       " 0.9999999403953552,\n",
       " 2.9999999701976776,\n",
       " 0.5000001192092896,\n",
       " 2.9999999701976776,\n",
       " 0.5000001192092896,\n",
       " 2.9999999701976776,\n",
       " 2.9999999701976776,\n",
       " 0.5000001192092896,\n",
       " 0.5000001192092896,\n",
       " 4.499999992549419,\n",
       " 2.9999999701976776,\n",
       " 0.5000001192092896,\n",
       " 5.0,\n",
       " 5.0,\n",
       " 1.5000000596046448,\n",
       " 4.499999992549419,\n",
       " 0.5000001192092896,\n",
       " 0.5000001192092896,\n",
       " 0.5000001192092896,\n",
       " 3.999999985098839,\n",
       " 1.5000000596046448,\n",
       " 0.5000001192092896,\n",
       " 0.5000001192092896,\n",
       " 2.9999999701976776,\n",
       " 8.499999940395355,\n",
       " 2.9999999701976776,\n",
       " 0.5000001192092896,\n",
       " 0.5000001192092896,\n",
       " 0.5000001192092896,\n",
       " 3.4999999403953552,\n",
       " 1.5000000596046448,\n",
       " 0.5000001192092896,\n",
       " 2.9999999701976776,\n",
       " 0.5000001192092896,\n",
       " 0.9999999403953552,\n",
       " 0.5000001192092896,\n",
       " 0.5000001192092896,\n",
       " 0.5000001192092896,\n",
       " 6.500000059604645,\n",
       " 8.00000011920929,\n",
       " 0.5000001192092896,\n",
       " 3.4999999403953552,\n",
       " 0.5000001192092896,\n",
       " 5.0,\n",
       " 2.9999999701976776,\n",
       " 5.0,\n",
       " 0.5000001192092896,\n",
       " 0.5000001192092896,\n",
       " 1.9999998807907104,\n",
       " 1.9999998807907104,\n",
       " 0.5000001192092896,\n",
       " 0.5000001192092896,\n",
       " 1.9999998807907104,\n",
       " 0.5000001192092896,\n",
       " 1.5000000596046448,\n",
       " 1.5000000596046448,\n",
       " 2.5,\n",
       " 7.5,\n",
       " 0.9999999403953552,\n",
       " 0.5000001192092896,\n",
       " 0.5000001192092896,\n",
       " 0.5000001192092896,\n",
       " 0.5000001192092896,\n",
       " 0.5000001192092896,\n",
       " 0.5000001192092896,\n",
       " 0.5000001192092896,\n",
       " 0.9999999403953552,\n",
       " 6.000000014901161,\n",
       " 0.5000001192092896,\n",
       " 1.5000000596046448,\n",
       " 0.5000001192092896,\n",
       " 1.5000000596046448,\n",
       " 3.4999999403953552,\n",
       " 0.9999999403953552,\n",
       " 2.5,\n",
       " 1.9999998807907104,\n",
       " 4.499999992549419,\n",
       " 1.9999998807907104,\n",
       " 2.9999999701976776,\n",
       " 0.9999999403953552,\n",
       " 0.9999999403953552,\n",
       " 0.9999999403953552,\n",
       " 0.5000001192092896,\n",
       " 0.9999999403953552,\n",
       " 3.4999999403953552,\n",
       " 1.5000000596046448,\n",
       " 0.9999999403953552,\n",
       " 1.5000000596046448,\n",
       " 0.5000001192092896,\n",
       " 0.5000001192092896,\n",
       " 2.5,\n",
       " 1.9999998807907104,\n",
       " 0.5000001192092896,\n",
       " 5.500000007450581,\n",
       " 0.5000001192092896,\n",
       " 2.9999999701976776,\n",
       " 4.499999992549419,\n",
       " 1.5000000596046448,\n",
       " 0.9999999403953552,\n",
       " 6.500000059604645,\n",
       " 1.9999998807907104,\n",
       " 0.5000001192092896,\n",
       " 0.5000001192092896,\n",
       " 0.9999999403953552,\n",
       " 3.4999999403953552,\n",
       " 0.5000001192092896,\n",
       " 0.9999999403953552,\n",
       " 0.5000001192092896,\n",
       " 2.5,\n",
       " 0.5000001192092896,\n",
       " 0.5000001192092896,\n",
       " 2.5,\n",
       " 2.9999999701976776,\n",
       " 6.000000014901161,\n",
       " 0.5000001192092896,\n",
       " 0.5000001192092896,\n",
       " 2.5,\n",
       " 0.5000001192092896,\n",
       " 0.9999999403953552,\n",
       " 0.5000001192092896,\n",
       " 1.9999998807907104,\n",
       " 0.9999999403953552,\n",
       " 0.5000001192092896,\n",
       " 0.5000001192092896,\n",
       " 0.5000001192092896,\n",
       " 0.5000001192092896,\n",
       " 2.5,\n",
       " 0.9999999403953552,\n",
       " 0.5000001192092896,\n",
       " 0.9999999403953552,\n",
       " 2.5,\n",
       " 0.5000001192092896,\n",
       " 3.4999999403953552,\n",
       " 1.5000000596046448,\n",
       " 1.9999998807907104,\n",
       " 0.5000001192092896,\n",
       " 2.9999999701976776,\n",
       " 0.9999999403953552,\n",
       " 0.5000001192092896,\n",
       " 0.5000001192092896,\n",
       " 0.5000001192092896,\n",
       " 0.5000001192092896,\n",
       " 2.5,\n",
       " 0.9999999403953552,\n",
       " 0.9999999403953552,\n",
       " 0.5000001192092896,\n",
       " 1.9999998807907104,\n",
       " 0.9999999403953552,\n",
       " 0.5000001192092896,\n",
       " 0.5000001192092896,\n",
       " 1.5000000596046448,\n",
       " 5.0,\n",
       " 0.5000001192092896,\n",
       " 0.5000001192092896,\n",
       " 0.5000001192092896,\n",
       " 2.5,\n",
       " 3.4999999403953552,\n",
       " 6.000000014901161,\n",
       " 0.5000001192092896,\n",
       " 0.5000001192092896,\n",
       " 3.999999985098839,\n",
       " 0.5000001192092896,\n",
       " 5.0,\n",
       " 0.5000001192092896,\n",
       " 0.5000001192092896,\n",
       " 0.5000001192092896,\n",
       " 3.999999985098839,\n",
       " 9.000000059604645,\n",
       " 1.9999998807907104,\n",
       " ...]"
      ]
     },
     "execution_count": 26,
     "metadata": {},
     "output_type": "execute_result"
    }
   ],
   "source": [
    "# Put google scores on same scale as ratings\n",
    "gscore_scaled = []\n",
    "for i in gscore:\n",
    "    normalized = (i+1)*5\n",
    "    gscore_scaled.append(normalized)\n",
    "gscore_scaled"
   ]
  },
  {
   "cell_type": "code",
   "execution_count": 27,
   "metadata": {
    "ExecuteTime": {
     "end_time": "2020-08-23T20:56:24.472622Z",
     "start_time": "2020-08-23T20:56:24.469052Z"
    }
   },
   "outputs": [],
   "source": [
    "# Add scaled sentiment scores to df\n",
    "tlj['google_score'] = pd.Series(gscore_scaled)"
   ]
  },
  {
   "cell_type": "code",
   "execution_count": 28,
   "metadata": {
    "ExecuteTime": {
     "end_time": "2020-08-23T20:56:25.172136Z",
     "start_time": "2020-08-23T20:56:25.167488Z"
    }
   },
   "outputs": [],
   "source": [
    "# Sentiment words for Google score intervals\n",
    "google_sentiment_words = []\n",
    "for i in tlj['google_score']:\n",
    "    if i >= 6.9:\n",
    "        google_sentiment_words.append('positive')\n",
    "    elif i > 4.49:\n",
    "        google_sentiment_words.append('neutral')\n",
    "    else:\n",
    "        google_sentiment_words.append('negative')"
   ]
  },
  {
   "cell_type": "code",
   "execution_count": 29,
   "metadata": {
    "ExecuteTime": {
     "end_time": "2020-08-23T20:56:26.799822Z",
     "start_time": "2020-08-23T20:56:26.796447Z"
    }
   },
   "outputs": [],
   "source": [
    "# Append Google sentiment words column\n",
    "tlj['google_sentiment'] = pd.Series(google_sentiment_words)"
   ]
  },
  {
   "cell_type": "markdown",
   "metadata": {},
   "source": [
    "### Visual EDA of Google scores"
   ]
  },
  {
   "cell_type": "code",
   "execution_count": 30,
   "metadata": {
    "ExecuteTime": {
     "end_time": "2020-08-23T20:56:29.091311Z",
     "start_time": "2020-08-23T20:56:28.660567Z"
    }
   },
   "outputs": [
    {
     "data": {
      "image/png": "[encoded data removed]",
      "text/plain": [
       "<Figure size 864x720 with 4 Axes>"
      ]
     },
     "metadata": {
      "needs_background": "light"
     },
     "output_type": "display_data"
    }
   ],
   "source": [
    "f, axes = plt.subplots(2,2, figsize=(12,10))\n",
    "sns.violinplot(np.array(tlj['google_score']), ax=axes[0,0]).set_title('Google Sentiment Scores', fontsize=20)\n",
    "sns.violinplot(np.array(tlj['Scores'].fillna(0)), ax=axes[0,1]).set_title('IMDb Review Scores', fontsize=20)\n",
    "sns.distplot(np.array(tlj['google_score']), ax=axes[1,0], bins=10)\n",
    "sns.distplot(np.array(tlj['Scores'].fillna(0)), ax=axes[1,1], bins=10)\n",
    "plt.tight_layout()"
   ]
  },
  {
   "cell_type": "markdown",
   "metadata": {},
   "source": [
    "- We can see with the EDA that the Google estimates of sentiment are __much closer__ to the IMDb sentiment actuals."
   ]
  },
  {
   "cell_type": "markdown",
   "metadata": {},
   "source": [
    "### Calculate accuracy of Google sentiment analysis"
   ]
  },
  {
   "cell_type": "code",
   "execution_count": 31,
   "metadata": {
    "ExecuteTime": {
     "end_time": "2020-08-23T20:56:32.255802Z",
     "start_time": "2020-08-23T20:56:32.237154Z"
    }
   },
   "outputs": [],
   "source": [
    "sent_true = np.array(tlj['IMDb_sentiments'])\n",
    "sent_pred = np.array(tlj['google_sentiment'])\n",
    "sent_conf = confusion_matrix(sent_true,sent_pred)"
   ]
  },
  {
   "cell_type": "code",
   "execution_count": 32,
   "metadata": {
    "ExecuteTime": {
     "end_time": "2020-08-23T20:56:32.934914Z",
     "start_time": "2020-08-23T20:56:32.931452Z"
    }
   },
   "outputs": [
    {
     "data": {
      "text/plain": [
       "array([[3239,  233,   95],\n",
       "       [ 505,   70,   27],\n",
       "       [ 531,  533,  632]])"
      ]
     },
     "execution_count": 32,
     "metadata": {},
     "output_type": "execute_result"
    }
   ],
   "source": [
    "sent_conf"
   ]
  },
  {
   "cell_type": "code",
   "execution_count": 33,
   "metadata": {
    "ExecuteTime": {
     "end_time": "2020-08-23T20:56:34.847699Z",
     "start_time": "2020-08-23T20:56:34.573321Z"
    }
   },
   "outputs": [
    {
     "data": {
      "image/png": "[encoded data removed]",
      "text/plain": [
       "<Figure size 720x576 with 2 Axes>"
      ]
     },
     "metadata": {
      "needs_background": "light"
     },
     "output_type": "display_data"
    }
   ],
   "source": [
    "# Confusion Matrix of results for nltk predictions and IMDb truth\n",
    "cm = print_confusion_matrix(sent_conf, ['negative', 'neutral', 'positive'], cmap='Reds', figsize=(10,8))"
   ]
  },
  {
   "cell_type": "markdown",
   "metadata": {},
   "source": [
    "### Calculate Google sentiment accuracy"
   ]
  },
  {
   "cell_type": "code",
   "execution_count": 34,
   "metadata": {
    "ExecuteTime": {
     "end_time": "2020-08-23T20:56:37.520261Z",
     "start_time": "2020-08-23T20:56:37.515376Z"
    }
   },
   "outputs": [],
   "source": [
    "# Calculate individual recall\n",
    "negative_recall = sent_conf[0,0]/np.sum(sent_conf[0])\n",
    "neutral_recall = sent_conf[1,1]/np.sum(sent_conf[1])\n",
    "positive_recall = sent_conf[2,2]/np.sum(sent_conf[2])\n",
    "\n",
    "# Calculate weight of each category\n",
    "total = np.sum(sent_conf)\n",
    "neg_wt = np.sum(sent_conf[0])/total\n",
    "neu_wt = np.sum(sent_conf[1])/total\n",
    "pos_wt = np.sum(sent_conf[2])/total\n",
    "\n",
    "# Calculate weighted overall accuracy\n",
    "overall_recall = (negative_recall*neg_wt\n",
    "                    + neutral_recall*neu_wt\n",
    "                    + positive_recall*pos_wt)"
   ]
  },
  {
   "cell_type": "code",
   "execution_count": 55,
   "metadata": {
    "ExecuteTime": {
     "end_time": "2020-08-17T20:48:45.952028Z",
     "start_time": "2020-08-17T20:48:45.947201Z"
    }
   },
   "outputs": [
    {
     "name": "stdout",
     "output_type": "stream",
     "text": [
      "Accuracy\n",
      "Negative recall: 0.9080459770114943\n",
      "Neutral recall: 0.11627906976744186\n",
      "Positive recall: 0.37264150943396224\n",
      "\n",
      "Weights\n",
      "Negative weight: 0.6081841432225064\n",
      "Neutral weight: 0.10264279624893435\n",
      "Positive weight: 0.28917306052855923\n",
      "\n",
      "Overall recall: 0.6719522591645354\n"
     ]
    }
   ],
   "source": [
    "print('Accuracy')\n",
    "print('Negative recall:',negative_recall)\n",
    "print('Neutral recall:',neutral_recall)\n",
    "print('Positive recall:',positive_recall)\n",
    "print()\n",
    "print('Weights')\n",
    "print('Negative weight:',neg_wt)\n",
    "print('Neutral weight:',neu_wt)\n",
    "print('Positive weight:',pos_wt)\n",
    "print()\n",
    "print('Overall recall:', overall_recall)"
   ]
  },
  {
   "cell_type": "markdown",
   "metadata": {},
   "source": [
    "- Now this is quite interesting. The __positive and neutral recall is significantly worse than nltk__, but __the negative accuracy is MUCH higher, at 0.908__. \n",
    "- Since the negative recall is what I'm most interested in, this works out very well. \n",
    "- Also of note is that the overall recall is higher, though not by much. \n",
    "- So __I will use the Google sentiment results for the topic modeling portion__. "
   ]
  },
  {
   "cell_type": "code",
   "execution_count": 56,
   "metadata": {
    "ExecuteTime": {
     "end_time": "2020-08-17T20:48:50.667579Z",
     "start_time": "2020-08-17T20:48:50.665610Z"
    }
   },
   "outputs": [],
   "source": [
    "# with open('tlj_v2.pickle', 'wb') as write_file:\n",
    "#     pickle.dump(tlj, write_file)"
   ]
  },
  {
   "cell_type": "markdown",
   "metadata": {},
   "source": [
    "## Sentiment Analysis Conclusions\n",
    "- The overall best performer was the Google Cloud sentiment analysis tool. This isn't surprising since it is after all, Google and I would expect a paid service from one of the foremost ML and AI companies in the world to do well on this task. \n",
    "- Additionally it performed exceedingly well on properly identifying negative sentiment, but somewhat poorly on the other two categories. I could speculate as to why this is. My best theory is that negative sentiment in these reviews is well-pronounced. It is rarely vague or couched. This was a polarizing movie and those who took to the internet to express themselves about it did not like it. This is reflected in the contrast between the average score from those who left reviews. Roughly 5800 left written reviews and their average scores was 4.22. However 446k left a score and the average of those who just left a score is 7.2. While IMDb may be doing some weighting behind the scenes to combat obvious attempts to stuff the ballot, __the difference in average score between those who did and those who didn't leave a written review strongly implies a negative bias for those who wrote a review__. This is the internet and this is a polarizing movie so none of this is surprising, but it is interesting to see it play out in raw numbers. \n",
    "- __I'll proceed with the Google sentiment analysis results to categorize review sentiment when topic modeling__."
   ]
  }
 ],
 "metadata": {
  "kernelspec": {
   "display_name": "Python 3",
   "language": "python",
   "name": "python3"
  },
  "language_info": {
   "codemirror_mode": {
    "name": "ipython",
    "version": 3
   },
   "file_extension": ".py",
   "mimetype": "text/x-python",
   "name": "python",
   "nbconvert_exporter": "python",
   "pygments_lexer": "ipython3",
   "version": "3.7.6"
  },
  "toc": {
   "base_numbering": 1,
   "nav_menu": {},
   "number_sections": true,
   "sideBar": true,
   "skip_h1_title": false,
   "title_cell": "Table of Contents",
   "title_sidebar": "Contents",
   "toc_cell": false,
   "toc_position": {},
   "toc_section_display": true,
   "toc_window_display": false
  },
  "varInspector": {
   "cols": {
    "lenName": 16,
    "lenType": 16,
    "lenVar": 40
   },
   "kernels_config": {
    "python": {
     "delete_cmd_postfix": "",
     "delete_cmd_prefix": "del ",
     "library": "var_list.py",
     "varRefreshCmd": "print(var_dic_list())"
    },
    "r": {
     "delete_cmd_postfix": ") ",
     "delete_cmd_prefix": "rm(",
     "library": "var_list.r",
     "varRefreshCmd": "cat(var_dic_list()) "
    }
   },
   "types_to_exclude": [
    "module",
    "function",
    "builtin_function_or_method",
    "instance",
    "_Feature"
   ],
   "window_display": false
  }
 },
 "nbformat": 4,
 "nbformat_minor": 2
}
